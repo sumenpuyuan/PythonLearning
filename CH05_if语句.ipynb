{
 "cells": [
  {
   "cell_type": "markdown",
   "metadata": {},
   "source": [
    "检查特定值是否包含在列表中"
   ]
  },
  {
   "cell_type": "code",
   "execution_count": 1,
   "metadata": {},
   "outputs": [
    {
     "data": {
      "text/plain": [
       "True"
      ]
     },
     "execution_count": 1,
     "metadata": {},
     "output_type": "execute_result"
    }
   ],
   "source": [
    "top=['mush','onions','pineaapple']\n",
    "'mush' in top"
   ]
  },
  {
   "cell_type": "markdown",
   "metadata": {},
   "source": [
    "# OS模块\n",
    "Python 的 os 模块封装了常见的文件和目录操作，\n",
    "<table>\n",
    "<thead>\n",
    "<tr>\n",
    "<th style=\"text-align: center;\">方法</th>\n",
    "<th style=\"text-align: center;\">说明</th>\n",
    "</tr>\n",
    "</thead>\n",
    "<tbody>\n",
    "<tr>\n",
    "<td style=\"text-align: center;\"> os.mkdir</td>\n",
    "<td style=\"text-align: center;\"> 创建目录</td>\n",
    "</tr>\n",
    "<tr>\n",
    "<td style=\"text-align: center;\">os.rmdir</td>\n",
    "<td style=\"text-align: center;\"> 删除目录</td>\n",
    "</tr>\n",
    "<tr>\n",
    "<td style=\"text-align: center;\"> os.rename</td>\n",
    "<td style=\"text-align: center;\"> 重命名</td>\n",
    "</tr>\n",
    "<tr>\n",
    "<td style=\"text-align: center;\">os.remove</td>\n",
    "<td style=\"text-align: center;\">删除文件</td>\n",
    "</tr>\n",
    "<tr>\n",
    "<td style=\"text-align: center;\"> os.getcwd</td>\n",
    "<td style=\"text-align: center;\">获取当前工作路径</td>\n",
    "</tr>\n",
    "<tr>\n",
    "<td style=\"text-align: center;\">os.walk</td>\n",
    "<td style=\"text-align: center;\">遍历目录</td>\n",
    "</tr>\n",
    "<tr>\n",
    "<td style=\"text-align: center;\">os.path.join</td>\n",
    "<td style=\"text-align: center;\">连接目录与文件名</td>\n",
    "</tr>\n",
    "<tr>\n",
    "<td style=\"text-align: center;\">os.path.split</td>\n",
    "<td style=\"text-align: center;\">分割文件名与目录</td>\n",
    "</tr>\n",
    "<tr>\n",
    "<td style=\"text-align: center;\">os.path.abspath</td>\n",
    "<td style=\"text-align: center;\">获取绝对路径</td>\n",
    "</tr>\n",
    "<tr>\n",
    "<td style=\"text-align: center;\">os.path.dirname</td>\n",
    "<td style=\"text-align: center;\">获取路径</td>\n",
    "</tr>\n",
    "<tr>\n",
    "<td style=\"text-align: center;\">os.path.basename</td>\n",
    "<td style=\"text-align: center;\">获取文件名或文件夹名</td>\n",
    "</tr>\n",
    "<tr>\n",
    "<td style=\"text-align: center;\">os.path.splitext</td>\n",
    "<td style=\"text-align: center;\">分离文件名与扩展名</td>\n",
    "</tr>\n",
    "<tr>\n",
    "<td style=\"text-align: center;\">os.path.isfile</td>\n",
    "<td style=\"text-align: center;\">判断给出的路径是否是一个文件</td>\n",
    "</tr>\n",
    "<tr>\n",
    "<td style=\"text-align: center;\">os.path.isdir</td>\n",
    "<td style=\"text-align: center;\">判断给出的路径是否是一个目录</td>\n",
    "</tr>\n",
    "</tbody>\n",
    "</table>"
   ]
  },
  {
   "cell_type": "code",
   "execution_count": 6,
   "metadata": {},
   "outputs": [
    {
     "name": "stdout",
     "output_type": "stream",
     "text": [
      "D:\\gitProcess\\PythonLearning\n"
     ]
    }
   ],
   "source": [
    "import os\n",
    "print(os.getcwd())\n",
    "for root, dirs, files in os.walk('D:/gitProcess//'):\n",
    "    print (root)\n",
    "    print (dirs)\n",
    "    print (files)"
   ]
  },
  {
   "cell_type": "code",
   "execution_count": null,
   "metadata": {},
   "outputs": [],
   "source": []
  }
 ],
 "metadata": {
  "kernelspec": {
   "display_name": "Python 3",
   "language": "python",
   "name": "python3"
  },
  "language_info": {
   "codemirror_mode": {
    "name": "ipython",
    "version": 3
   },
   "file_extension": ".py",
   "mimetype": "text/x-python",
   "name": "python",
   "nbconvert_exporter": "python",
   "pygments_lexer": "ipython3",
   "version": "3.6.5"
  }
 },
 "nbformat": 4,
 "nbformat_minor": 2
}
