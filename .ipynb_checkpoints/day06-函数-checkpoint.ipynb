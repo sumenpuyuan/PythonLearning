{
 "cells": [
  {
   "cell_type": "markdown",
   "metadata": {},
   "source": [
    "# 函数\n",
    "1. 函数代码块以 def 关键词开头，后接函数标识符名称和圆括号()。\n",
    "2. return [表达式] 结束函数，选择性地返回一个值给调用方。不带表达式的return相当于返回 None。"
   ]
  },
  {
   "cell_type": "markdown",
   "metadata": {},
   "source": [
    "# 参数\n",
    "以下是调用函数时可使用的正式参数类型：\n",
    "\n",
    "* 必备参数\n",
    "* 关键字参数\n",
    "* 默认参数\n",
    "* 不定长参数"
   ]
  },
  {
   "cell_type": "markdown",
   "metadata": {},
   "source": [
    "## 必备参数\n",
    "必备参数须以正确的顺序传入函数。调用时的数量必须和声明时的一样。\n",
    "调用printme()函数，你必须传入一个参数，不然会出现语法错误："
   ]
  },
  {
   "cell_type": "code",
   "execution_count": 20,
   "metadata": {},
   "outputs": [
    {
     "ename": "SyntaxError",
     "evalue": "Missing parentheses in call to 'print'. Did you mean print(str)? (<ipython-input-20-98f872b79d80>, line 7)",
     "output_type": "error",
     "traceback": [
      "\u001b[1;36m  File \u001b[1;32m\"<ipython-input-20-98f872b79d80>\"\u001b[1;36m, line \u001b[1;32m7\u001b[0m\n\u001b[1;33m    print str;\u001b[0m\n\u001b[1;37m            ^\u001b[0m\n\u001b[1;31mSyntaxError\u001b[0m\u001b[1;31m:\u001b[0m Missing parentheses in call to 'print'. Did you mean print(str)?\n"
     ]
    }
   ],
   "source": [
    "#可写函数说明\n",
    "def printme( str ):\n",
    "   \"打印任何传入的字符串\"\n",
    "   print str;\n",
    "   return;\n",
    "#调用printme函数\n",
    "printme();"
   ]
  },
  {
   "cell_type": "markdown",
   "metadata": {},
   "source": [
    "## 关键字参数\n",
    "关键字参数和函数调用关系紧密，函数调用使用关键字参数来确定传入的参数值。\n",
    "\n",
    "使用关键字参数允许函数调用时参数的顺序与声明时不一致，因为 Python 解释器能够用参数名匹配参数值。\n",
    "\n",
    "以下实例在函数 printme() 调用时使用参数名："
   ]
  },
  {
   "cell_type": "code",
   "execution_count": 22,
   "metadata": {},
   "outputs": [
    {
     "name": "stdout",
     "output_type": "stream",
     "text": [
      "My string\n"
     ]
    }
   ],
   "source": [
    "#可写函数说明\n",
    "def printme( str ):\n",
    "   \"打印任何传入的字符串\"\n",
    "   print (str);\n",
    "   return;\n",
    " \n",
    "#调用printme函数\n",
    "printme( str = \"My string\");"
   ]
  },
  {
   "cell_type": "markdown",
   "metadata": {},
   "source": [
    "## 默认参数\n",
    "调用函数时，默认参数的值如果没有传入，则被认为是默认值。下例会打印默认的age，如果age没有被传入："
   ]
  },
  {
   "cell_type": "code",
   "execution_count": 24,
   "metadata": {},
   "outputs": [
    {
     "name": "stdout",
     "output_type": "stream",
     "text": [
      "Name:  miki\n",
      "Age  50\n",
      "Name:  miki\n",
      "Age  35\n"
     ]
    }
   ],
   "source": [
    "#可写函数说明\n",
    "def printinfo( name, age = 35 ):\n",
    "   \"打印任何传入的字符串\"\n",
    "   print (\"Name: \", name)\n",
    "   print (\"Age \", age)\n",
    "   return;\n",
    " \n",
    "#调用printinfo函数\n",
    "printinfo( age=50, name=\"miki\" );\n",
    "printinfo( name=\"miki\" );"
   ]
  },
  {
   "cell_type": "markdown",
   "metadata": {},
   "source": [
    "## 不定长参数\n",
    "你可能需要一个函数能处理比当初声明时更多的参数。这些参数叫做不定长参数，和上述2种参数不同，声明时不会命名。"
   ]
  },
  {
   "cell_type": "code",
   "execution_count": 26,
   "metadata": {},
   "outputs": [
    {
     "name": "stdout",
     "output_type": "stream",
     "text": [
      "输出: \n",
      "10\n",
      "输出: \n",
      "70\n",
      "60\n",
      "50\n"
     ]
    }
   ],
   "source": [
    "# 可写函数说明\n",
    "def printinfo( arg1, *vartuple ):\n",
    "   \"打印任何传入的参数\"\n",
    "   print (\"输出: \")\n",
    "   print (arg1)\n",
    "   for var in vartuple:\n",
    "      print (var)\n",
    "   return;\n",
    "# 调用printinfo 函数\n",
    "printinfo( 10 );\n",
    "printinfo( 70, 60, 50 );"
   ]
  },
  {
   "cell_type": "markdown",
   "metadata": {},
   "source": [
    "# 全局变量和局部变量\n",
    "定义在函数内部的变量拥有一个局部作用域，定义在函数外的拥有全局作用域。\n",
    "\n",
    "局部变量只能在其被声明的函数内部访问，而全局变量可以在整个程序范围内访问。调用函数时，所有在函数内声明的变量名称都将被加入到作用域中。"
   ]
  },
  {
   "cell_type": "code",
   "execution_count": 28,
   "metadata": {},
   "outputs": [
    {
     "name": "stdout",
     "output_type": "stream",
     "text": [
      "函数内是局部变量 :  30\n",
      "函数外是全局变量 :  0\n"
     ]
    }
   ],
   "source": [
    "total = 0; # 这是一个全局变量\n",
    "# 可写函数说明\n",
    "def sum( arg1, arg2 ):\n",
    "   #返回2个参数的和.\"\n",
    "   total = arg1 + arg2; # total在这里是局部变量.\n",
    "   print (\"函数内是局部变量 : \", total)\n",
    "   return total;\n",
    " \n",
    "#调用sum函数\n",
    "sum( 10, 20 );\n",
    "print (\"函数外是全局变量 : \", total)"
   ]
  },
  {
   "cell_type": "markdown",
   "metadata": {},
   "source": [
    "# 作业"
   ]
  },
  {
   "cell_type": "code",
   "execution_count": 14,
   "metadata": {},
   "outputs": [
    {
     "name": "stdout",
     "output_type": "stream",
     "text": [
      "[0, 1, 2, 3, 4, 5, 6, 7, 8, 9]\n"
     ]
    },
    {
     "data": {
      "text/plain": [
       "['8', '3', '6', '4', ' 2']"
      ]
     },
     "execution_count": 14,
     "metadata": {},
     "output_type": "execute_result"
    }
   ],
   "source": [
    "#实现random.sample方法\n",
    "import random\n",
    "list_var = ['1',' 2', '3', '4', '5', '6', '7', '8', '9','10']  \n",
    "def lvSample(list_var,num):\n",
    "    res=[]\n",
    "    index=list(range(0,len(list_var)))\n",
    "    print(index)\n",
    "    while num>0:\n",
    "        tempIndex=random.randint(0, len(index)-1)\n",
    "        res.append(list_var[index[tempIndex]])\n",
    "        del index[tempIndex]\n",
    "        num-=1\n",
    "    return res    \n",
    "lvSample(list_var,5)"
   ]
  },
  {
   "cell_type": "code",
   "execution_count": 30,
   "metadata": {},
   "outputs": [
    {
     "name": "stdout",
     "output_type": "stream",
     "text": [
      "3\n",
      "8\n"
     ]
    }
   ],
   "source": [
    "#实现Max方法\n",
    "def lvMax(numOne, numTwo, *num):\n",
    "    maxNum=numOne if numOne>numTwo else numTwo\n",
    "    if len(num) == 0:\n",
    "        pass\n",
    "    else:\n",
    "        for value in num:\n",
    "            if value>maxNum:\n",
    "                maxNum=value\n",
    "    return maxNum\n",
    "print(lvMax(2,3))\n",
    "print(lvMax(4,7,8,1,2,3,4))"
   ]
  },
  {
   "cell_type": "code",
   "execution_count": 19,
   "metadata": {},
   "outputs": [
    {
     "name": "stdout",
     "output_type": "stream",
     "text": [
      "False\n",
      "False\n",
      "True\n"
     ]
    }
   ],
   "source": [
    "# 判断两个字符串是否相等\n",
    "def lvStrcmp(strOne,strTwo):\n",
    "    if len(strOne) != len(strTwo):\n",
    "        return False\n",
    "    else:\n",
    "        for i in range(len(strOne)):\n",
    "            if strOne[i] != strTwo[i]:\n",
    "                return False\n",
    "        return True\n",
    "print(lvStrcmp(\"lv\",\"lvXing\"))\n",
    "print(lvStrcmp(\"lvxue\",\"lixue\"))\n",
    "print(lvStrcmp(\"yatian\",\"yatian\"))"
   ]
  },
  {
   "cell_type": "code",
   "execution_count": null,
   "metadata": {},
   "outputs": [],
   "source": []
  }
 ],
 "metadata": {
  "kernelspec": {
   "display_name": "Python 3",
   "language": "python",
   "name": "python3"
  },
  "language_info": {
   "codemirror_mode": {
    "name": "ipython",
    "version": 3
   },
   "file_extension": ".py",
   "mimetype": "text/x-python",
   "name": "python",
   "nbconvert_exporter": "python",
   "pygments_lexer": "ipython3",
   "version": "3.6.5"
  }
 },
 "nbformat": 4,
 "nbformat_minor": 2
}
