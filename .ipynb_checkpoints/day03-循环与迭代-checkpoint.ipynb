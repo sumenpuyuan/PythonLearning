{
 "cells": [
  {
   "cell_type": "markdown",
   "metadata": {},
   "source": [
    "# if语句"
   ]
  },
  {
   "cell_type": "code",
   "execution_count": 1,
   "metadata": {},
   "outputs": [
    {
     "name": "stdout",
     "output_type": "stream",
     "text": [
      "ture\n"
     ]
    }
   ],
   "source": [
    "if 1:\n",
    "    print(\"ture\")"
   ]
  },
  {
   "cell_type": "code",
   "execution_count": 2,
   "metadata": {},
   "outputs": [
    {
     "name": "stdout",
     "output_type": "stream",
     "text": [
      "run away\n"
     ]
    }
   ],
   "source": [
    "x=\"killer\"\n",
    "if x == 'roger':\n",
    "    print(\"roger\")\n",
    "elif x == \"bugs\":\n",
    "    print(\"bugs\")\n",
    "else:\n",
    "    print(\"run away\")"
   ]
  },
  {
   "cell_type": "markdown",
   "metadata": {},
   "source": [
    "# 循环"
   ]
  },
  {
   "cell_type": "code",
   "execution_count": 5,
   "metadata": {},
   "outputs": [
    {
     "name": "stdout",
     "output_type": "stream",
     "text": [
      "0 1 2 3 4 5 6 7 8 9 spam eggs ham "
     ]
    }
   ],
   "source": [
    "#while 循环\n",
    "a=0;b=10\n",
    "while a<b:\n",
    "    print(a,end=\" \")\n",
    "    a+=1\n",
    "#for循环\n",
    "for x in [\"spam\",\"eggs\",\"ham\"]:\n",
    "    print(x,end=\" \")"
   ]
  },
  {
   "cell_type": "markdown",
   "metadata": {},
   "source": [
    "# 三目表达式"
   ]
  },
  {
   "cell_type": "code",
   "execution_count": 7,
   "metadata": {},
   "outputs": [
    {
     "data": {
      "text/plain": [
       "2"
      ]
     },
     "execution_count": 7,
     "metadata": {},
     "output_type": "execute_result"
    }
   ],
   "source": [
    "a=1;b=2#和c有区别\n",
    "a if a>b else b"
   ]
  },
  {
   "cell_type": "markdown",
   "metadata": {},
   "source": [
    "# 容器\n",
    "Python容器：列表、元组、字典和集合"
   ]
  },
  {
   "cell_type": "markdown",
   "metadata": {},
   "source": [
    "<img src=\"images/01.png\" width=\"480\"/>"
   ]
  },
  {
   "cell_type": "markdown",
   "metadata": {},
   "source": [
    "# 可迭代对象\n",
    "Python中任意的对象，只要它定义了可以返回一个迭代器的__iter__方法，或者定义了可以支持下标索引的__getitem__方法(这些双下划线方法会在其他章节中全面解释)，那么它就是一个可迭代对象。简单说，可迭代对象就是能提供迭代器的任意对象。那迭代器又是什么呢？\n",
    "# 迭代器\n",
    "任意对象，只要定义了next(Python2) 或者__next__方法，它就是一个迭代器。就这么简单。现在我们来理解迭代(iteration)\n",
    "# 迭代\n",
    "用简单的话讲，它就是从某个地方（比如一个列表）取出一个元素的过程。当我们使用一个循环来遍历某个东西时，这个过程本身就叫迭代。现在既然我们有了这些术语的基本理解，那我们开始理解生成器吧。\n",
    "# 生成器\n",
    "生成器也是一种迭代器，但是你只能对其迭代一次。这是因为它们并没有把所有的值存在内存中，而是在运行时生成值。你通过遍历来使用它们，要么用一个“for”循环，要么将它们传递给任意可以进行迭代的函数和结构。大多数时候生成器是以函数来实现的。然而，它们并不返回一个值，而是yield(暂且译作“生出”)一个值。这里有个生成器函数的简单例子：\n",
    "参考：https://eastlakeside.gitbooks.io/interpy-zh/content/Generators/Generators.html"
   ]
  },
  {
   "cell_type": "code",
   "execution_count": 3,
   "metadata": {},
   "outputs": [
    {
     "name": "stdout",
     "output_type": "stream",
     "text": [
      "0\n",
      "1\n",
      "2\n",
      "3\n",
      "4\n",
      "5\n",
      "6\n",
      "7\n",
      "8\n",
      "9\n"
     ]
    }
   ],
   "source": [
    "def generator_function():\n",
    "    for i in range(10):\n",
    "        yield i\n",
    "for item in generator_function():\n",
    "    print(item)"
   ]
  },
  {
   "cell_type": "code",
   "execution_count": 2,
   "metadata": {},
   "outputs": [
    {
     "name": "stdout",
     "output_type": "stream",
     "text": [
      "1\n",
      "1\n",
      "2\n",
      "3\n",
      "5\n",
      "8\n",
      "13\n",
      "21\n",
      "34\n",
      "55\n"
     ]
    }
   ],
   "source": [
    "#这个案例并不是非常实用。生成器最佳应用场景是：你不想同一时间将所有计算出来的大量结果集分配到内存当中，特别是结果集里还包含循环。\n",
    "\n",
    "#下面是一个计算斐波那契数列的生成器：\n",
    "# generator version\n",
    "def fibon(n):\n",
    "    a = b = 1\n",
    "    for i in range(n):\n",
    "        yield a\n",
    "        a, b = b, a + b\n",
    "for x in fibon(10):\n",
    "    print(x)\n",
    "#用这种方式，我们可以不用担心它会使用大量资源。然而，之前如果我们这样来实现的话：\n",
    "def fibon(n):\n",
    "    a = b = 1\n",
    "    result = []\n",
    "    for i in range(n):\n",
    "        result.append(a)\n",
    "        a, b = b, a + b\n",
    "    return result\n",
    "#这也许会在计算很大的输入参数时，用尽所有的资源。"
   ]
  },
  {
   "cell_type": "markdown",
   "metadata": {},
   "source": [
    "# 作业\n",
    "请对方输入一个0-9之间的数字，进行检查，若不是数字提示：您输入的不是数字，请输入0-9间的数字，若数字不在0-9范围内，提示用户输入0-9之间的数字，直至用户输入正确。\n",
    "系统随机生成一个长度为3的数字列表，且列表中元素在0-9之间并且不相等。将用户输入与该列表进行比较，若为列表第一个元素，则荣获第一名，列表第二个元素，则荣获第二名，列表第三个名字，则荣获第三名，否则提示用户未得奖，输入1重新开始游戏，输入2则结束游戏。\n",
    "注意：每次游戏中列表中数字要求随机生成，每轮游戏都不相等。"
   ]
  },
  {
   "cell_type": "code",
   "execution_count": 2,
   "metadata": {},
   "outputs": [
    {
     "name": "stdout",
     "output_type": "stream",
     "text": [
      "请输入一个0-9内的数字:2\n",
      "输入正确\n",
      "产生序列， (6, 0, 1)\n",
      "没中奖\n",
      "1.重新开始游戏\n",
      ",2:结束游戏1\n",
      "请输入一个0-9内的数字:2\n",
      "输入正确\n",
      "产生序列， (8, 9, 7)\n",
      "没中奖\n",
      "1.重新开始游戏\n",
      ",2:结束游戏1\n",
      "请输入一个0-9内的数字:2\n",
      "输入正确\n",
      "产生序列， (9, 1, 5)\n",
      "没中奖\n",
      "1.重新开始游戏\n",
      ",2:结束游戏1\n",
      "请输入一个0-9内的数字:2\n",
      "输入正确\n",
      "产生序列， (2, 1, 9)\n",
      "一等奖\n",
      "1.重新开始游戏\n",
      ",2:结束游戏2\n"
     ]
    }
   ],
   "source": [
    "import random\n",
    "from itertools import combinations, permutations\n",
    "def is_number(s):\n",
    "    try:\n",
    "        float(s)\n",
    "        return True\n",
    "    except ValueError:\n",
    "        pass\n",
    " \n",
    "    try:\n",
    "        import unicodedata\n",
    "        unicodedata.numeric(s)\n",
    "        return True\n",
    "    except (TypeError, ValueError):\n",
    "        pass\n",
    " \n",
    "    return False\n",
    "#产生0-9 3位有序排列组合\n",
    "data_base=list(permutations([0,1, 2, 3,4,5,6,7,8,9], 3))\n",
    "while True:\n",
    "    while True:\n",
    "        num=input(\"请输入一个0-9内的数字:\") \n",
    "        if not is_number(num):\n",
    "            print(\"请输入数字\")\n",
    "            continue\n",
    "        if float(num) <0 or float(num) >9:\n",
    "            print(\"请输入0-9的数字\")\n",
    "            continue\n",
    "        break\n",
    "    print(\"输入正确\")\n",
    "    #产生随机数\n",
    "    index=random.randint(0,len(data_base)-1)\n",
    "    res=data_base[index]\n",
    "    del data_base[index]\n",
    "    print(\"产生序列，\",res)\n",
    "    if int(num) == res[0]:\n",
    "        print(\"一等奖\")\n",
    "    elif int(num) == res[1]:\n",
    "        print(\"二等奖\")\n",
    "    elif int(num) == res[2]:\n",
    "        print(\"三等奖\")\n",
    "    else:\n",
    "        print(\"没中奖\")\n",
    "    key=int(input(\"1.重新开始游戏\\n,2:结束游戏\"))\n",
    "    if key == 1:\n",
    "        continue\n",
    "    elif key == 2:\n",
    "        break\n",
    "    else:\n",
    "        print(\"请输入1或者2\")\n",
    "    "
   ]
  },
  {
   "cell_type": "code",
   "execution_count": null,
   "metadata": {},
   "outputs": [],
   "source": []
  }
 ],
 "metadata": {
  "kernelspec": {
   "display_name": "Python 3",
   "language": "python",
   "name": "python3"
  },
  "language_info": {
   "codemirror_mode": {
    "name": "ipython",
    "version": 3
   },
   "file_extension": ".py",
   "mimetype": "text/x-python",
   "name": "python",
   "nbconvert_exporter": "python",
   "pygments_lexer": "ipython3",
   "version": "3.6.5"
  }
 },
 "nbformat": 4,
 "nbformat_minor": 2
}
