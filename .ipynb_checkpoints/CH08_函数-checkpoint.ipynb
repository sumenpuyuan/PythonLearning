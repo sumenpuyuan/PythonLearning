{
 "cells": [
  {
   "cell_type": "markdown",
   "metadata": {},
   "source": [
    "## 函数中修改列表 ##"
   ]
  },
  {
   "cell_type": "code",
   "execution_count": 5,
   "metadata": {},
   "outputs": [
    {
     "name": "stdout",
     "output_type": "stream",
     "text": [
      "函数里 ['wangzhe', 'weizhaoxiang']\n",
      "函数外 ['wangzhe', 'weizhaoxiang']\n"
     ]
    }
   ],
   "source": [
    "list=['lvxuejie','wangzhe','weizhaoxiang']\n",
    "def changeList(list):\n",
    "    del list[0]\n",
    "    print('函数里',list)\n",
    "changeList(list)\n",
    "print('函数外',list)"
   ]
  },
  {
   "cell_type": "markdown",
   "metadata": {},
   "source": [
    "类似c语言的地址传递"
   ]
  },
  {
   "cell_type": "markdown",
   "metadata": {},
   "source": [
    "## 禁止函数修改列表 ##\n",
    "调用函数时，新建一个列表副本就好"
   ]
  },
  {
   "cell_type": "code",
   "execution_count": 8,
   "metadata": {},
   "outputs": [
    {
     "name": "stdout",
     "output_type": "stream",
     "text": [
      "函数里 ['wangzhe', 'weizhaoxiang']\n",
      "函数外 ['lvxuejie', 'wangzhe', 'weizhaoxiang']\n"
     ]
    }
   ],
   "source": [
    "list=['lvxuejie','wangzhe','weizhaoxiang']\n",
    "def changeList(list):\n",
    "    del list[0]\n",
    "    print('函数里',list)\n",
    "changeList(list[:])\n",
    "print('函数外',list)"
   ]
  },
  {
   "cell_type": "markdown",
   "metadata": {},
   "source": [
    "## 传递任意数量的实参 ##"
   ]
  },
  {
   "cell_type": "code",
   "execution_count": 9,
   "metadata": {},
   "outputs": [
    {
     "name": "stdout",
     "output_type": "stream",
     "text": [
      "('pepperoni',)\n",
      "('mushrooms', 'green peppers', 'extra cheese')\n"
     ]
    }
   ],
   "source": [
    "def make_pizza(*toppings):\n",
    "    print(toppings)\n",
    "make_pizza('pepperoni')\n",
    "make_pizza('mushrooms','green peppers','extra cheese')"
   ]
  },
  {
   "cell_type": "markdown",
   "metadata": {},
   "source": [
    "形参名*toppings的星号让python创建一个名为toppings的空元组，并将收到的所有值都封装到这个元组中"
   ]
  },
  {
   "cell_type": "markdown",
   "metadata": {},
   "source": [
    "## 使用任意数量的关键字 "
   ]
  },
  {
   "cell_type": "code",
   "execution_count": 11,
   "metadata": {},
   "outputs": [
    {
     "name": "stdout",
     "output_type": "stream",
     "text": [
      "{'xing': 'lv', 'ming': 'xuejie', 'location': 'beijing', 'field': 'physics'}\n"
     ]
    }
   ],
   "source": [
    "def build_profile(xing,ming,**user_info):\n",
    "    profile={}\n",
    "    profile['xing']=xing\n",
    "    profile['ming']=ming\n",
    "    for key,value in user_info.items():\n",
    "        profile[key]=value\n",
    "    return profile\n",
    "user_profile=build_profile('lv','xuejie',location='beijing',field='physics')\n",
    "print(user_profile)"
   ]
  },
  {
   "cell_type": "markdown",
   "metadata": {},
   "source": [
    "形参**user_info,两个星号让python创建一个名为user_info的空字典"
   ]
  }
 ],
 "metadata": {
  "kernelspec": {
   "display_name": "Python 3",
   "language": "python",
   "name": "python3"
  },
  "language_info": {
   "codemirror_mode": {
    "name": "ipython",
    "version": 3
   },
   "file_extension": ".py",
   "mimetype": "text/x-python",
   "name": "python",
   "nbconvert_exporter": "python",
   "pygments_lexer": "ipython3",
   "version": "3.6.5"
  }
 },
 "nbformat": 4,
 "nbformat_minor": 2
}
