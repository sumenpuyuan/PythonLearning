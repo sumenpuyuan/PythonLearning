{
 "cells": [
  {
   "cell_type": "markdown",
   "metadata": {},
   "source": [
    "# 正则表达式\n",
    "正则表达式是一个特殊的字符序列，它能帮助你方便的检查一个字符串是否与某种模式匹配。"
   ]
  },
  {
   "cell_type": "markdown",
   "metadata": {},
   "source": [
    "# re.match函数\n",
    "re.match 尝试从字符串的起始位置匹配一个模式，如果不是起始位置匹配成功的话，match()就返回none。\n",
    "\n",
    "函数语法：\n",
    "\n",
    "re.match(pattern, string, flags=0)"
   ]
  },
  {
   "cell_type": "markdown",
   "metadata": {},
   "source": [
    "<p>函数参数说明：</p>\n",
    "<table class=\"reference\">\n",
    "<tbody><tr>\n",
    "<th style=\"width:30%\">参数</th><th>描述</th>\n",
    "</tr>\n",
    "<tr><td>pattern</td><td>匹配的正则表达式</td></tr>\n",
    "<tr><td>string</td><td>要匹配的字符串。</td></tr>\n",
    "<tr><td>flags</td><td>标志位，用于控制正则表达式的匹配方式，如：是否区分大小写，多行匹配等等。参见：<a href=\"#flags\">正则表达式修饰符 - 可选标志</a></td></tr>\n",
    "</tbody></table>\n",
    "<p>匹配成功re.match方法返回一个匹配的对象，否则返回None。</p>\n"
   ]
  },
  {
   "cell_type": "code",
   "execution_count": 1,
   "metadata": {},
   "outputs": [
    {
     "name": "stdout",
     "output_type": "stream",
     "text": [
      "(0, 3)\n",
      "None\n"
     ]
    }
   ],
   "source": [
    " import re\n",
    "print(re.match('www', 'www.runoob.com').span())  # 在起始位置匹配\n",
    "print(re.match('com', 'www.runoob.com'))         # 不在起始位置匹配"
   ]
  },
  {
   "cell_type": "markdown",
   "metadata": {},
   "source": [
    "<hr><h2>re.search方法</h2>\n",
    "<p>re.search 扫描整个字符串并返回第一个成功的匹配。</p>\n",
    "<p>函数语法：</p>\n",
    "<pre>\n",
    "re.search(pattern, string, flags=0)\n",
    "</pre>\n",
    "<p>函数参数说明：</p>\n",
    "<table class=\"reference\">\n",
    "<tbody><tr>\n",
    "<th style=\"width:30%\">参数</th><th>描述</th>\n",
    "</tr>\n",
    "<tr><td>pattern</td><td>匹配的正则表达式</td></tr>\n",
    "<tr><td>string</td><td>要匹配的字符串。</td></tr>\n",
    "<tr><td>flags</td><td>标志位，用于控制正则表达式的匹配方式，如：是否区分大小写，多行匹配等等。</td></tr>\n",
    "</tbody></table>\n",
    "<p>匹配成功re.search方法返回一个匹配的对象，否则返回None。</p>\n"
   ]
  },
  {
   "cell_type": "code",
   "execution_count": 2,
   "metadata": {},
   "outputs": [
    {
     "name": "stdout",
     "output_type": "stream",
     "text": [
      "(0, 3)\n",
      "(11, 14)\n"
     ]
    }
   ],
   "source": [
    "import re\n",
    "print(re.search('www', 'www.runoob.com').span())  # 在起始位置匹配\n",
    "print(re.search('com', 'www.runoob.com').span())         # 不在起始位置匹配"
   ]
  },
  {
   "cell_type": "markdown",
   "metadata": {},
   "source": [
    "# re.match与re.search的区别\n",
    "re.match只匹配字符串的开始，如果字符串开始不符合正则表达式，则匹配失败，函数返回None；而re.search匹配整个字符串，直到找到一个匹配。"
   ]
  },
  {
   "cell_type": "markdown",
   "metadata": {},
   "source": [
    "<hr><h2>检索和替换</h2>\n",
    "<p>Python 的 re 模块提供了re.sub用于替换字符串中的匹配项。</p>\n",
    "<p>语法：</p>\n",
    "<pre>\n",
    "re.sub(pattern, repl, string, count=0, flags=0)\n",
    "</pre>\n",
    "<p>参数：</p>\n",
    "<ul>\n",
    "<li>pattern : 正则中的模式字符串。</li><li>\n",
    "repl : 替换的字符串，也可为一个函数。</li><li>\n",
    "string : 要被查找替换的原始字符串。</li><li>\n",
    "count : 模式匹配后替换的最大次数，默认 0 表示替换所有的匹配。</li></ul>\n"
   ]
  },
  {
   "cell_type": "code",
   "execution_count": 4,
   "metadata": {},
   "outputs": [
    {
     "name": "stdout",
     "output_type": "stream",
     "text": [
      "电话号码是:  2004-959-559 \n",
      "电话号码是 :  2004959559\n"
     ]
    }
   ],
   "source": [
    "import re\n",
    " \n",
    "phone = \"2004-959-559 # 这是一个国外电话号码\"\n",
    "\n",
    "# 删除字符串中的 Python注释 \n",
    "num = re.sub(r'#.*$', \"\", phone)\n",
    "print (\"电话号码是: \", num)\n",
    "\n",
    "# 删除非数字(-)的字符串 \n",
    "num = re.sub(r'\\D', \"\", phone)\n",
    "print (\"电话号码是 : \", num)"
   ]
  },
  {
   "cell_type": "markdown",
   "metadata": {},
   "source": [
    "正则表达式实例\n",
    "</h2>\n",
    "<h4>字符匹配</h4>\n",
    "<table class=\"reference\">\n",
    "<tbody><tr><th style=\"width:25%\">实例</th><th>描述</th></tr>\n",
    "<tr><td>python</td><td>匹配 \"python\". </td></tr>\n",
    "</tbody></table>\n",
    "<h4>字符类</h4>\n",
    "<table class=\"reference\">\n",
    "<tbody><tr><th style=\"width:25%\">实例</th><th>描述</th></tr>\n",
    "<tr><td>[Pp]ython </td><td>匹配 \"Python\" 或 \"python\"</td></tr>\n",
    "<tr><td>rub[ye]</td><td>匹配 \"ruby\" 或 \"rube\"</td></tr>\n",
    "<tr><td>[aeiou]</td><td>匹配中括号内的任意一个字母</td></tr>\n",
    "<tr><td>[0-9]</td><td>匹配任何数字。类似于 [0123456789]</td></tr>\n",
    "<tr><td>[a-z]</td><td>匹配任何小写字母</td></tr>\n",
    "<tr><td>[A-Z]</td><td>匹配任何大写字母</td></tr>\n",
    "<tr><td>[a-zA-Z0-9]</td><td>匹配任何字母及数字</td></tr>\n",
    "<tr><td>[^aeiou]</td><td>除了aeiou字母以外的所有字符 \n",
    "</td></tr>\n",
    "<tr><td>[^0-9]</td><td>匹配除了数字外的字符 \n",
    "</td></tr>\n",
    "</tbody></table>\n",
    "\n",
    "<h4>特殊字符类</h4>\n",
    "<table class=\"reference\">\n",
    "<tbody><tr><th style=\"width:25%\">实例</th><th>描述</th></tr>\n",
    "<tr><td>.</td><td>匹配除 \"\\n\" 之外的任何单个字符。要匹配包括 '\\n' 在内的任何字符，请使用象 '[.\\n]' 的模式。</td></tr>\n",
    "<tr><td>\\d</td><td>匹配一个数字字符。等价于 [0-9]。</td></tr>\n",
    "<tr><td>\\D </td><td>匹配一个非数字字符。等价于 [^0-9]。</td></tr>\n",
    "<tr><td>\\s</td><td>匹配任何空白字符，包括空格、制表符、换页符等等。等价于 [ \\f\\n\\r\\t\\v]。</td></tr>\n",
    "<tr><td>\\S </td><td>匹配任何非空白字符。等价于 [^ \\f\\n\\r\\t\\v]。</td></tr>\n",
    "<tr><td>\\w</td><td>匹配包括下划线的任何单词字符。等价于'[A-Za-z0-9_]'。</td></tr>\n",
    "<tr><td>\\W</td><td>匹配任何非单词字符。等价于 '[^A-Za-z0-9_]'。</td></tr>\n",
    "</tbody></table>\t"
   ]
  },
  {
   "cell_type": "markdown",
   "metadata": {},
   "source": [
    "# OS模块\n",
    "Python 的 os 模块封装了常见的文件和目录操作，\n",
    "<table>\n",
    "<thead>\n",
    "<tr>\n",
    "<th style=\"text-align: center;\">方法</th>\n",
    "<th style=\"text-align: center;\">说明</th>\n",
    "</tr>\n",
    "</thead>\n",
    "<tbody>\n",
    "<tr>\n",
    "<td style=\"text-align: center;\"> os.mkdir</td>\n",
    "<td style=\"text-align: center;\"> 创建目录</td>\n",
    "</tr>\n",
    "<tr>\n",
    "<td style=\"text-align: center;\">os.rmdir</td>\n",
    "<td style=\"text-align: center;\"> 删除目录</td>\n",
    "</tr>\n",
    "<tr>\n",
    "<td style=\"text-align: center;\"> os.rename</td>\n",
    "<td style=\"text-align: center;\"> 重命名</td>\n",
    "</tr>\n",
    "<tr>\n",
    "<td style=\"text-align: center;\">os.remove</td>\n",
    "<td style=\"text-align: center;\">删除文件</td>\n",
    "</tr>\n",
    "<tr>\n",
    "<td style=\"text-align: center;\"> os.getcwd</td>\n",
    "<td style=\"text-align: center;\">获取当前工作路径</td>\n",
    "</tr>\n",
    "<tr>\n",
    "<td style=\"text-align: center;\">os.walk</td>\n",
    "<td style=\"text-align: center;\">遍历目录</td>\n",
    "</tr>\n",
    "<tr>\n",
    "<td style=\"text-align: center;\">os.path.join</td>\n",
    "<td style=\"text-align: center;\">连接目录与文件名</td>\n",
    "</tr>\n",
    "<tr>\n",
    "<td style=\"text-align: center;\">os.path.split</td>\n",
    "<td style=\"text-align: center;\">分割文件名与目录</td>\n",
    "</tr>\n",
    "<tr>\n",
    "<td style=\"text-align: center;\">os.path.abspath</td>\n",
    "<td style=\"text-align: center;\">获取绝对路径</td>\n",
    "</tr>\n",
    "<tr>\n",
    "<td style=\"text-align: center;\">os.path.dirname</td>\n",
    "<td style=\"text-align: center;\">获取路径</td>\n",
    "</tr>\n",
    "<tr>\n",
    "<td style=\"text-align: center;\">os.path.basename</td>\n",
    "<td style=\"text-align: center;\">获取文件名或文件夹名</td>\n",
    "</tr>\n",
    "<tr>\n",
    "<td style=\"text-align: center;\">os.path.splitext</td>\n",
    "<td style=\"text-align: center;\">分离文件名与扩展名</td>\n",
    "</tr>\n",
    "<tr>\n",
    "<td style=\"text-align: center;\">os.path.isfile</td>\n",
    "<td style=\"text-align: center;\">判断给出的路径是否是一个文件</td>\n",
    "</tr>\n",
    "<tr>\n",
    "<td style=\"text-align: center;\">os.path.isdir</td>\n",
    "<td style=\"text-align: center;\">判断给出的路径是否是一个目录</td>\n",
    "</tr>\n",
    "</tbody>\n",
    "</table>"
   ]
  },
  {
   "cell_type": "code",
   "execution_count": 6,
   "metadata": {},
   "outputs": [
    {
     "name": "stdout",
     "output_type": "stream",
     "text": [
      "D:\\gitProcess\\PythonLearning\n"
     ]
    }
   ],
   "source": [
    "import os\n",
    "print(os.getcwd())\n",
    "for root, dirs, files in os.walk('D:/gitProcess/电子书/'):\n",
    "    print (root)\n",
    "    print (dirs)\n",
    "    print (files)"
   ]
  },
  {
   "cell_type": "markdown",
   "metadata": {},
   "source": [
    "# datatime 模块"
   ]
  },
  {
   "cell_type": "code",
   "execution_count": 19,
   "metadata": {},
   "outputs": [
    {
     "name": "stdout",
     "output_type": "stream",
     "text": [
      "1993-10-20 11:12:11\n",
      "10\n",
      "2019-01-30 17:15:21.688622\n"
     ]
    }
   ],
   "source": [
    "from datetime import datetime\n",
    "birthday = datetime(year=1993, month=10, day=20,hour=11,minute=12,second=11)\n",
    "print(birthday)\n",
    "print(birthday.month)\n",
    "now = datetime.now() # 返回当前时间\n",
    "print(now)"
   ]
  },
  {
   "cell_type": "markdown",
   "metadata": {},
   "source": [
    "# http请求\n",
    "## get请求"
   ]
  },
  {
   "cell_type": "code",
   "execution_count": 14,
   "metadata": {},
   "outputs": [
    {
     "name": "stdout",
     "output_type": "stream",
     "text": [
      "200\n"
     ]
    }
   ],
   "source": [
    "\n",
    "## 不带参数 \n",
    "#!/usr/bin/python\n",
    "import requests\n",
    "url=\"http://www.baidu.com/\"\n",
    "r = requests.get(url)\n",
    "print (r.status_code)#这是状态码\n",
    "#print (r.content)#这是返回内容"
   ]
  },
  {
   "cell_type": "markdown",
   "metadata": {},
   "source": [
    "# post请求"
   ]
  },
  {
   "cell_type": "code",
   "execution_count": 15,
   "metadata": {},
   "outputs": [
    {
     "name": "stdout",
     "output_type": "stream",
     "text": [
      "302\n"
     ]
    },
    {
     "name": "stderr",
     "output_type": "stream",
     "text": [
      "系统找不到指定的路径。\n"
     ]
    }
   ],
   "source": [
    "!/usr/bin/python\n",
    "\n",
    "import requests\n",
    "\n",
    "url=\"http://www.baidu.com\"\n",
    "\n",
    "payload={'message': \"Opportunities and challenges together\"}\n",
    "\n",
    "r = requests.post(url, data=payload)\n",
    "\n",
    "print (r.status_code)\n",
    "#print (r.content)"
   ]
  },
  {
   "cell_type": "markdown",
   "metadata": {},
   "source": [
    "# 作业\n",
    "1.请用户输入一个时间，输出选项所对应的现在时间，告诉用户这两个时间相隔的天数，小时数，分钟数和秒数"
   ]
  },
  {
   "cell_type": "code",
   "execution_count": 32,
   "metadata": {},
   "outputs": [
    {
     "name": "stdout",
     "output_type": "stream",
     "text": [
      "请输入一个时间,格式是 年 月 天 时 分 秒2019 1 30 17 30 00\n",
      "用户输入时间时2019-01-30 17:30:00,当前时间时：2019-01-30 17:41:24.087676\n",
      "相差天数0，相差小时0.0，相差分钟11，相差秒684\n"
     ]
    }
   ],
   "source": [
    "input_time=input(\"请输入一个时间,格式是 年 月 天 时 分 秒\").split(\" \")\n",
    "input_time = datetime(year=int(input_time[0]), month=int(input_time[1]), day=int(input_time[2]),hour=int(input_time[3]),minute=int(input_time[4]),second=int(input_time[5]))\n",
    "now_time=datetime.now()\n",
    "print(\"用户输入时间时{},当前时间时：{}\".format(input_time,now_time))\n",
    "res=input_time-now_time if input_time>now_time else now_time-input_time\n",
    "print(\"相差天数{}，相差小时{}，相差分钟{}，相差秒{}\".format(res.days,res.seconds/60//24,res.seconds//60,res.seconds))\n"
   ]
  },
  {
   "cell_type": "code",
   "execution_count": null,
   "metadata": {},
   "outputs": [],
   "source": [
    "2.请用户输入电话及邮箱，判断用户输入是否合法。"
   ]
  },
  {
   "cell_type": "code",
   "execution_count": 38,
   "metadata": {},
   "outputs": [
    {
     "name": "stdout",
     "output_type": "stream",
     "text": [
      "请输入邮箱1233@ddd.cm\n",
      "OK\n"
     ]
    }
   ],
   "source": [
    "import re\n",
    "str=r'^[a-zA-Z0-9_-]+(\\.[a-zA-Z0-9_-]+){0,4}@[a-zA-Z0-9_-]+(\\.[a-zA-Z0-9_-]+){0,4}$'\n",
    "email=input(\"请输入邮箱\")\n",
    "if re.match(str,email):\n",
    "    print('OK')\n",
    "else:\n",
    "    print(\"wrong\")"
   ]
  },
  {
   "cell_type": "code",
   "execution_count": 37,
   "metadata": {},
   "outputs": [
    {
     "name": "stdout",
     "output_type": "stream",
     "text": [
      "请输入您的手机号:1385464556\n",
      "不是手机号\n"
     ]
    }
   ],
   "source": [
    "phone_pat = re.compile('^(13\\d|14[5|7]|15\\d|166|17[3|6|7]|18\\d)\\d{8}$')\n",
    "phone = input('请输入您的手机号:')\n",
    "res = re.search(phone_pat, phone)\n",
    "if res:\n",
    "    print('正常手机号')\n",
    "else:\n",
    "    print('不是手机号')\n"
   ]
  },
  {
   "cell_type": "markdown",
   "metadata": {},
   "source": [
    "3.对http://www.baidu.com 进行请求，并用正则化匹配图片内容。将百度图标爬取下来保存至本地"
   ]
  },
  {
   "cell_type": "code",
   "execution_count": 52,
   "metadata": {
    "scrolled": true
   },
   "outputs": [
    {
     "name": "stdout",
     "output_type": "stream",
     "text": [
      "//www.baidu.com/img/bd_logo1.png\n"
     ]
    }
   ],
   "source": [
    "from urllib import request\n",
    "url=\"http://www.baidu.com/\"\n",
    "r = requests.get(url)\n",
    "#print (r.content)#这是返回内容\n",
    "\n",
    "reg=r'src=\"(.+?\\.png)\"'\n",
    "#buf=data.decode('utf-8')\n",
    "imglist=re.findall(reg,r.content.decode('utf-8'))\n",
    "for addr in imglist:\n",
    "    print(addr)\n",
    "    request.urlretrieve(\"https:\"+addr,r\"D:\\logo.png\")"
   ]
  },
  {
   "cell_type": "code",
   "execution_count": null,
   "metadata": {},
   "outputs": [],
   "source": []
  }
 ],
 "metadata": {
  "kernelspec": {
   "display_name": "Python 3",
   "language": "python",
   "name": "python3"
  },
  "language_info": {
   "codemirror_mode": {
    "name": "ipython",
    "version": 3
   },
   "file_extension": ".py",
   "mimetype": "text/x-python",
   "name": "python",
   "nbconvert_exporter": "python",
   "pygments_lexer": "ipython3",
   "version": "3.6.5"
  }
 },
 "nbformat": 4,
 "nbformat_minor": 2
}
