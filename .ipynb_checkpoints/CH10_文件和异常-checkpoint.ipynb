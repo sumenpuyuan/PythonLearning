{
 "cells": [
  {
   "cell_type": "markdown",
   "metadata": {},
   "source": [
    "# 读取整个文件 #\n",
    "\n",
    "最有会多一个空行，因为read()到达文件末尾时返回一个空字符串，而这个字符串输出来就是空行"
   ]
  },
  {
   "cell_type": "code",
   "execution_count": 3,
   "metadata": {},
   "outputs": [
    {
     "name": "stdout",
     "output_type": "stream",
     "text": [
      "3.1415\n",
      "89655\n",
      "2232655\n",
      "\n"
     ]
    }
   ],
   "source": [
    "with open('data/1.txt') as file_object:\n",
    "    contents=file_object.read()\n",
    "    print(contents)"
   ]
  },
  {
   "cell_type": "markdown",
   "metadata": {},
   "source": [
    "# 逐行读取 #"
   ]
  },
  {
   "cell_type": "code",
   "execution_count": 6,
   "metadata": {},
   "outputs": [
    {
     "name": "stdout",
     "output_type": "stream",
     "text": [
      "3.1415\n",
      "\n",
      "89655\n",
      "\n",
      "2232655\n",
      "\n"
     ]
    }
   ],
   "source": [
    "filename='data/1.txt'\n",
    "with open(filename) as file_object:\n",
    "    for line in file_object:\n",
    "        print(line)"
   ]
  },
  {
   "cell_type": "markdown",
   "metadata": {},
   "source": [
    "每一行都有一个换行符，所以很多空行"
   ]
  },
  {
   "cell_type": "code",
   "execution_count": 8,
   "metadata": {},
   "outputs": [
    {
     "name": "stdout",
     "output_type": "stream",
     "text": [
      "3.1415\n",
      "89655\n",
      "2232655\n"
     ]
    }
   ],
   "source": [
    "with open(filename) as file_object:\n",
    "    for line in file_object:\n",
    "        print(line.strip())"
   ]
  },
  {
   "cell_type": "markdown",
   "metadata": {},
   "source": [
    "# 创建一个包含文件各行内容的列表"
   ]
  },
  {
   "cell_type": "code",
   "execution_count": 11,
   "metadata": {},
   "outputs": [
    {
     "name": "stdout",
     "output_type": "stream",
     "text": [
      "['3.1415\\n', '89655\\n', '2232655\\n']\n"
     ]
    }
   ],
   "source": [
    "with open(filename) as file_obj:\n",
    "    lines=file_obj.readlines()\n",
    "print(lines)"
   ]
  },
  {
   "cell_type": "markdown",
   "metadata": {},
   "source": [
    "# 写入空文件 #"
   ]
  },
  {
   "cell_type": "code",
   "execution_count": 12,
   "metadata": {},
   "outputs": [],
   "source": [
    "filename='data/2.txt'\n",
    "with open(filename,'w') as file_obj:\n",
    "    file_obj.write(\"i love programming\")\n"
   ]
  },
  {
   "cell_type": "markdown",
   "metadata": {},
   "source": [
    "# 使用try-exception代码块 #"
   ]
  },
  {
   "cell_type": "code",
   "execution_count": 13,
   "metadata": {},
   "outputs": [
    {
     "name": "stdout",
     "output_type": "stream",
     "text": [
      "你不能处以0\n"
     ]
    }
   ],
   "source": [
    "try:\n",
    "    print(5/0)\n",
    "except ZeroDivisionError:\n",
    "    print(\"你不能处以0\")"
   ]
  },
  {
   "cell_type": "markdown",
   "metadata": {},
   "source": [
    "# 使用异常避免崩溃 #\n",
    "try代码块成功执行，则执行else代码块的东西"
   ]
  },
  {
   "cell_type": "code",
   "execution_count": 14,
   "metadata": {},
   "outputs": [
    {
     "name": "stdout",
     "output_type": "stream",
     "text": [
      "give me tow numbers,i will divide them\n",
      "enter q to quit\n",
      "input your first number\n",
      "1\n",
      "input your second number\n",
      "2\n",
      "0.5\n",
      "input your first number\n",
      "5\n",
      "input your second number\n",
      "0\n",
      "you can not divide 0\n",
      "input your first number\n",
      "q\n"
     ]
    }
   ],
   "source": [
    "print(\"give me tow numbers,i will divide them\")\n",
    "print('enter q to quit')\n",
    "while True:\n",
    "    m=input(\"input your first number\\n\")\n",
    "    if(m == 'q'):\n",
    "        break\n",
    "    n=input('input your second number\\n')\n",
    "    try:\n",
    "        res=int(m)/int(n)\n",
    "    except ZeroDivisionError:\n",
    "        print('you can not divide 0')\n",
    "    else:\n",
    "        print(res)"
   ]
  },
  {
   "cell_type": "markdown",
   "metadata": {},
   "source": [
    "# 处理FileNotFoundError异常 #"
   ]
  },
  {
   "cell_type": "code",
   "execution_count": 15,
   "metadata": {},
   "outputs": [
    {
     "name": "stdout",
     "output_type": "stream",
     "text": [
      "not found the file:alice.txt\n"
     ]
    }
   ],
   "source": [
    "filename='alice.txt'\n",
    "try:\n",
    "    with open(filename) as f_obj:\n",
    "        contents=f_obj.read()\n",
    "except FileNotFoundError:\n",
    "    msg='not found the file:'+filename\n",
    "    print(msg)"
   ]
  },
  {
   "cell_type": "code",
   "execution_count": null,
   "metadata": {},
   "outputs": [],
   "source": []
  }
 ],
 "metadata": {
  "kernelspec": {
   "display_name": "Python 3",
   "language": "python",
   "name": "python3"
  },
  "language_info": {
   "codemirror_mode": {
    "name": "ipython",
    "version": 3
   },
   "file_extension": ".py",
   "mimetype": "text/x-python",
   "name": "python",
   "nbconvert_exporter": "python",
   "pygments_lexer": "ipython3",
   "version": "3.6.5"
  }
 },
 "nbformat": 4,
 "nbformat_minor": 2
}
