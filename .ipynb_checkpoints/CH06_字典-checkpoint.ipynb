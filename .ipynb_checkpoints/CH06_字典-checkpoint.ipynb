{
 "cells": [
  {
   "cell_type": "markdown",
   "metadata": {},
   "source": [
    "python中，字典就是一系列 键值对"
   ]
  },
  {
   "cell_type": "markdown",
   "metadata": {},
   "source": [
    "## 删除键值对"
   ]
  },
  {
   "cell_type": "code",
   "execution_count": 14,
   "metadata": {},
   "outputs": [
    {
     "name": "stdout",
     "output_type": "stream",
     "text": [
      "{'color': 'green', 'points': '5'}\n",
      "{'points': '5'}\n"
     ]
    }
   ],
   "source": [
    "alien={'color':'green','points':'5'}\n",
    "print(alien)\n",
    "del alien['color']\n",
    "print(alien)"
   ]
  },
  {
   "cell_type": "markdown",
   "metadata": {},
   "source": [
    "## 遍历字典"
   ]
  },
  {
   "cell_type": "code",
   "execution_count": 15,
   "metadata": {},
   "outputs": [
    {
     "name": "stdout",
     "output_type": "stream",
     "text": [
      "\n",
      "key: username\n",
      "value: efermi\n",
      "\n",
      "key: first\n",
      "value: enrico\n",
      "\n",
      "key: last\n",
      "value: fermi\n"
     ]
    }
   ],
   "source": [
    "user={\n",
    "    'username':'efermi',\n",
    "    'first':'enrico',\n",
    "    'last':'fermi'\n",
    "}\n",
    "for key,value in user.items():\n",
    "    print(\"\\nkey: \"+key)\n",
    "    print(\"value: \"+value)"
   ]
  },
  {
   "cell_type": "markdown",
   "metadata": {},
   "source": [
    "遍历字典时，键值对返回顺序与存储顺序不同"
   ]
  },
  {
   "cell_type": "markdown",
   "metadata": {},
   "source": [
    "## 遍历字典中的所有键"
   ]
  },
  {
   "cell_type": "code",
   "execution_count": 17,
   "metadata": {},
   "outputs": [
    {
     "name": "stdout",
     "output_type": "stream",
     "text": [
      "username\n",
      "first\n",
      "last\n"
     ]
    }
   ],
   "source": [
    "for key in user.keys():\n",
    "    print(key)"
   ]
  },
  {
   "cell_type": "markdown",
   "metadata": {},
   "source": [
    "## 按照顺序遍历字典中的所有建"
   ]
  },
  {
   "cell_type": "code",
   "execution_count": 18,
   "metadata": {},
   "outputs": [
    {
     "name": "stdout",
     "output_type": "stream",
     "text": [
      "first \n",
      "last \n",
      "username \n"
     ]
    }
   ],
   "source": [
    "for key in sorted(user.keys()):\n",
    "    print(key+\" \")"
   ]
  },
  {
   "cell_type": "markdown",
   "metadata": {},
   "source": [
    "## 遍历字典所有内容值"
   ]
  },
  {
   "cell_type": "code",
   "execution_count": 19,
   "metadata": {},
   "outputs": [
    {
     "name": "stdout",
     "output_type": "stream",
     "text": [
      "efermi\n",
      "enrico\n",
      "fermi\n"
     ]
    }
   ],
   "source": [
    "for value in user.values():\n",
    "    print(value)"
   ]
  },
  {
   "cell_type": "markdown",
   "metadata": {},
   "source": [
    "## 字典列表（列表中嵌套字典）"
   ]
  },
  {
   "cell_type": "code",
   "execution_count": 20,
   "metadata": {},
   "outputs": [
    {
     "name": "stdout",
     "output_type": "stream",
     "text": [
      "{'color': 'green', 'points': 5}\n",
      "{'color': 'green', 'points': 5}\n",
      "{'color': 'green', 'points': 5}\n"
     ]
    }
   ],
   "source": [
    "alien_0={'color':'green','points':5}\n",
    "alien_1={'color':'green','points':5}\n",
    "alien_2={'color':'green','points':5}\n",
    "aliens=[alien_0,alien_1,alien_2]\n",
    "for alien in aliens:\n",
    "    print(alien)"
   ]
  },
  {
   "cell_type": "markdown",
   "metadata": {},
   "source": [
    "## 字典中存储列表"
   ]
  },
  {
   "cell_type": "code",
   "execution_count": 21,
   "metadata": {},
   "outputs": [
    {
     "name": "stdout",
     "output_type": "stream",
     "text": [
      "\n",
      "jen like \n",
      "python \n",
      "ruby \n",
      "\n",
      "sarch like \n",
      "c++ \n",
      "c \n",
      "\n",
      "phil like \n",
      "python \n",
      "java \n"
     ]
    }
   ],
   "source": [
    "like={\n",
    "    'jen':['python','ruby'],\n",
    "    'sarch':['c++','c'],\n",
    "    'phil':['python','java']\n",
    "}\n",
    "for name,lang in like.items():\n",
    "    print('\\n'+name+' like ')\n",
    "    for value in lang:\n",
    "        print(value+\" \")"
   ]
  },
  {
   "cell_type": "markdown",
   "metadata": {},
   "source": [
    "## 字典嵌套字典"
   ]
  },
  {
   "cell_type": "code",
   "execution_count": 23,
   "metadata": {},
   "outputs": [
    {
     "name": "stdout",
     "output_type": "stream",
     "text": [
      "bob\n",
      "albertprincetion\n",
      "liming\n",
      "lichina\n"
     ]
    }
   ],
   "source": [
    "users={\n",
    "    'bob':{\n",
    "        'first':'albert',\n",
    "        'location':'princetion'\n",
    "    },\n",
    "    'liming':{\n",
    "        'first':'li',\n",
    "        'location':'china'\n",
    "    }\n",
    "}\n",
    "for username,user_info in users.items():\n",
    "    print(username)\n",
    "    print(user_info['first']+user_info['location'])"
   ]
  },
  {
   "cell_type": "code",
   "execution_count": null,
   "metadata": {},
   "outputs": [],
   "source": []
  }
 ],
 "metadata": {
  "kernelspec": {
   "display_name": "Python 3",
   "language": "python",
   "name": "python3"
  },
  "language_info": {
   "codemirror_mode": {
    "name": "ipython",
    "version": 3
   },
   "file_extension": ".py",
   "mimetype": "text/x-python",
   "name": "python",
   "nbconvert_exporter": "python",
   "pygments_lexer": "ipython3",
   "version": "3.6.5"
  }
 },
 "nbformat": 4,
 "nbformat_minor": 2
}
