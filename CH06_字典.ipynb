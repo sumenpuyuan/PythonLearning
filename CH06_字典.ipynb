{
 "cells": [
  {
   "cell_type": "markdown",
   "metadata": {},
   "source": [
    "# 字典\n",
    "python中，字典就是一系列 键-值对，python将返回与之相关联的值，键和值之间使用冒号分割，与键相关联的值可以是数字，字符串，列表乃至字典，事实上，可将任何python对象用作字典中得值"
   ]
  },
  {
   "cell_type": "markdown",
   "metadata": {},
   "source": [
    "## 删除键值对"
   ]
  },
  {
   "cell_type": "code",
   "execution_count": 14,
   "metadata": {},
   "outputs": [
    {
     "name": "stdout",
     "output_type": "stream",
     "text": [
      "{'color': 'green', 'points': '5'}\n",
      "{'points': '5'}\n"
     ]
    }
   ],
   "source": [
    "alien={'color':'green','points':'5'}\n",
    "print(alien)\n",
    "del alien['color']\n",
    "print(alien)"
   ]
  },
  {
   "cell_type": "markdown",
   "metadata": {},
   "source": [
    "## 遍历字典"
   ]
  },
  {
   "cell_type": "code",
   "execution_count": 15,
   "metadata": {},
   "outputs": [
    {
     "name": "stdout",
     "output_type": "stream",
     "text": [
      "\n",
      "key: username\n",
      "value: efermi\n",
      "\n",
      "key: first\n",
      "value: enrico\n",
      "\n",
      "key: last\n",
      "value: fermi\n"
     ]
    }
   ],
   "source": [
    "user={\n",
    "    'username':'efermi',\n",
    "    'first':'enrico',\n",
    "    'last':'fermi'\n",
    "}\n",
    "for key,value in user.items():\n",
    "    print(\"\\nkey: \"+key)\n",
    "    print(\"value: \"+value)"
   ]
  },
  {
   "cell_type": "markdown",
   "metadata": {},
   "source": [
    "遍历字典时，键值对返回顺序与存储顺序不同"
   ]
  },
  {
   "cell_type": "markdown",
   "metadata": {},
   "source": [
    "## 遍历字典中的所有键"
   ]
  },
  {
   "cell_type": "code",
   "execution_count": 17,
   "metadata": {},
   "outputs": [
    {
     "name": "stdout",
     "output_type": "stream",
     "text": [
      "username\n",
      "first\n",
      "last\n"
     ]
    }
   ],
   "source": [
    "for key in user.keys():\n",
    "    print(key)"
   ]
  },
  {
   "cell_type": "markdown",
   "metadata": {},
   "source": [
    "## 按照顺序遍历字典中的所有建"
   ]
  },
  {
   "cell_type": "code",
   "execution_count": 18,
   "metadata": {},
   "outputs": [
    {
     "name": "stdout",
     "output_type": "stream",
     "text": [
      "first \n",
      "last \n",
      "username \n"
     ]
    }
   ],
   "source": [
    "for key in sorted(user.keys()):\n",
    "    print(key+\" \")"
   ]
  },
  {
   "cell_type": "markdown",
   "metadata": {},
   "source": [
    "## 遍历字典所有内容值"
   ]
  },
  {
   "cell_type": "code",
   "execution_count": 19,
   "metadata": {},
   "outputs": [
    {
     "name": "stdout",
     "output_type": "stream",
     "text": [
      "efermi\n",
      "enrico\n",
      "fermi\n"
     ]
    }
   ],
   "source": [
    "for value in user.values():\n",
    "    print(value)"
   ]
  },
  {
   "cell_type": "markdown",
   "metadata": {},
   "source": [
    "## 字典列表（列表中嵌套字典）"
   ]
  },
  {
   "cell_type": "code",
   "execution_count": 20,
   "metadata": {},
   "outputs": [
    {
     "name": "stdout",
     "output_type": "stream",
     "text": [
      "{'color': 'green', 'points': 5}\n",
      "{'color': 'green', 'points': 5}\n",
      "{'color': 'green', 'points': 5}\n"
     ]
    }
   ],
   "source": [
    "alien_0={'color':'green','points':5}\n",
    "alien_1={'color':'green','points':5}\n",
    "alien_2={'color':'green','points':5}\n",
    "aliens=[alien_0,alien_1,alien_2]\n",
    "for alien in aliens:\n",
    "    print(alien)"
   ]
  },
  {
   "cell_type": "markdown",
   "metadata": {},
   "source": [
    "## 字典中存储列表"
   ]
  },
  {
   "cell_type": "code",
   "execution_count": 21,
   "metadata": {},
   "outputs": [
    {
     "name": "stdout",
     "output_type": "stream",
     "text": [
      "\n",
      "jen like \n",
      "python \n",
      "ruby \n",
      "\n",
      "sarch like \n",
      "c++ \n",
      "c \n",
      "\n",
      "phil like \n",
      "python \n",
      "java \n"
     ]
    }
   ],
   "source": [
    "like={\n",
    "    'jen':['python','ruby'],\n",
    "    'sarch':['c++','c'],\n",
    "    'phil':['python','java']\n",
    "}\n",
    "for name,lang in like.items():\n",
    "    print('\\n'+name+' like ')\n",
    "    for value in lang:\n",
    "        print(value+\" \")"
   ]
  },
  {
   "cell_type": "markdown",
   "metadata": {},
   "source": [
    "## 字典嵌套字典"
   ]
  },
  {
   "cell_type": "code",
   "execution_count": 23,
   "metadata": {},
   "outputs": [
    {
     "name": "stdout",
     "output_type": "stream",
     "text": [
      "bob\n",
      "albertprincetion\n",
      "liming\n",
      "lichina\n"
     ]
    }
   ],
   "source": [
    "users={\n",
    "    'bob':{\n",
    "        'first':'albert',\n",
    "        'location':'princetion'\n",
    "    },\n",
    "    'liming':{\n",
    "        'first':'li',\n",
    "        'location':'china'\n",
    "    }\n",
    "}\n",
    "for username,user_info in users.items():\n",
    "    print(username)\n",
    "    print(user_info['first']+user_info['location'])"
   ]
  },
  {
   "cell_type": "markdown",
   "metadata": {},
   "source": [
    "# set集合\n",
    "python的set和其他语言类似, 是一个无序不重复元素集, 基本功能包括关系测试和消除重复元素. 集合对象还支持union(联合), intersection(交), difference(差)和sysmmetric difference(对称差集)等数学运算.\n",
    " \n",
    "sets 支持 x in set, len(set),和 for x in set。作为一个无序的集合，sets不记录元素位置或者插入点。因此，sets不支持 indexing, slicing, 或其它类序列（sequence-like）的操作。\n",
    " "
   ]
  },
  {
   "cell_type": "code",
   "execution_count": 1,
   "metadata": {},
   "outputs": [
    {
     "name": "stdout",
     "output_type": "stream",
     "text": [
      "{'a', 'm', 'p', 's'} {'a', 'm', 'h'}\n"
     ]
    }
   ],
   "source": [
    "#下面来点简单的小例子说明把。\n",
    "x = set('spam')\n",
    "y = set(['h','a','m'])\n",
    "print(x, y)"
   ]
  },
  {
   "cell_type": "code",
   "execution_count": 2,
   "metadata": {},
   "outputs": [
    {
     "name": "stdout",
     "output_type": "stream",
     "text": [
      "{'m', 'a'}\n",
      "{'h', 'a', 'm', 'p', 's'}\n",
      "{'p', 's'}\n"
     ]
    }
   ],
   "source": [
    "print(x & y) # 交集\n",
    "print(x | y) # 并集\n",
    "print( x - y) # 差集"
   ]
  },
  {
   "cell_type": "code",
   "execution_count": 4,
   "metadata": {},
   "outputs": [
    {
     "name": "stdout",
     "output_type": "stream",
     "text": [
      "{'e', 'H', 'o', 'l', 'x'}\n",
      "{3, 37, 5, 9, 10, 42}\n",
      "{'e', 'o', 'l', 'x'}\n",
      "6\n",
      "False\n"
     ]
    }
   ],
   "source": [
    "#一些基本操作\n",
    "s = set([3,5,9,10])      #创建一个数值集合\n",
    "t = set(\"Hello\")         #创建一个唯一字符的集合\n",
    "#与列表和元组不同，集合是无序的，也无法通过数字进行索引。此外，集合中的元素不能重复。\n",
    "t.add('x')            # 添加一项\n",
    "print(t)\n",
    "s.update([10,37,42])  # 在s中添加多项\n",
    "print(s)\n",
    "#使用remove()可以删除一项：\n",
    " \n",
    "t.remove('H')\n",
    "print(t)\n",
    "print(len(s))\n",
    "#set 的长度\n",
    "print(x in s)\n",
    "#测试 x 是否是 s 的成员\n",
    "\n"
   ]
  },
  {
   "cell_type": "markdown",
   "metadata": {},
   "source": [
    "# 文件操作"
   ]
  },
  {
   "cell_type": "code",
   "execution_count": 9,
   "metadata": {
    "scrolled": true
   },
   "outputs": [
    {
     "name": "stdout",
     "output_type": "stream",
     "text": [
      "python学习 咖喱 胡骞\n",
      "leetcode刷题 老表 陈焕森\n",
      "编程集训 孙超 小熊\n",
      "统计学 李奇峰 蓝昔\n",
      "ML项目实践 杨冰楠 孙涛\n",
      "高级算法梳理 于鸿飞 小雪\n",
      "基础算法梳理 sm1les 钱令武\n",
      "知乎小组 李严 黑桃\n",
      "学习群 咖喱 排骨\n",
      "\n"
     ]
    }
   ],
   "source": [
    "with open('homework.txt', 'r',encoding='UTF-8') as f:#r是只读 w是写模式\n",
    "    print (f.read())"
   ]
  },
  {
   "cell_type": "markdown",
   "metadata": {},
   "source": [
    "# 作业"
   ]
  },
  {
   "cell_type": "code",
   "execution_count": 29,
   "metadata": {},
   "outputs": [
    {
     "name": "stdout",
     "output_type": "stream",
     "text": [
      "{'python学习': ['咖喱', '胡骞\\n'], 'leetcode刷题': ['老表', '陈焕森\\n'], '编程集训': ['孙超', '小熊\\n'], '统计学': ['李奇峰', '蓝昔\\n'], 'ML项目实践': ['杨冰楠', '孙涛\\n'], '高级算法梳理': ['于鸿飞', '小雪\\n'], '基础算法梳理': ['sm1les', '钱令武\\n'], '知乎小组': ['李严', '黑桃\\n'], '学习群': ['咖喱', '排骨\\n']}\n",
      "有负责人负责多个学习项目\n"
     ]
    }
   ],
   "source": [
    "data={}\n",
    "person=[]\n",
    "with open(\"homework.txt\",'r',encoding='UTF-8') as f:\n",
    "    lines = f.readlines()\n",
    "    for line in lines:\n",
    "        info=line.split(\" \")\n",
    "        key=info[0]\n",
    "        value=[info[1],info[2]]\n",
    "        person.extend(value)\n",
    "        data[key]=value\n",
    "    print(data)\n",
    "if len(set(person)) != len(data)*2:\n",
    "    print(\"有负责人负责多个学习项目\")\n",
    "else:\n",
    "    print(\"没有负责人负责多个学习项目\")"
   ]
  },
  {
   "cell_type": "code",
   "execution_count": null,
   "metadata": {},
   "outputs": [],
   "source": []
  }
 ],
 "metadata": {
  "kernelspec": {
   "display_name": "Python 3",
   "language": "python",
   "name": "python3"
  },
  "language_info": {
   "codemirror_mode": {
    "name": "ipython",
    "version": 3
   },
   "file_extension": ".py",
   "mimetype": "text/x-python",
   "name": "python",
   "nbconvert_exporter": "python",
   "pygments_lexer": "ipython3",
   "version": "3.6.5"
  }
 },
 "nbformat": 4,
 "nbformat_minor": 2
}
